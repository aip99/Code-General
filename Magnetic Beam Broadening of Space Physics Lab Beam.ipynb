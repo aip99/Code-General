{
 "cells": [
  {
   "cell_type": "markdown",
   "metadata": {},
   "source": [
    "Description: Simplified simulator of beam broadening used in Space Physics Lab.\n",
    "\n",
    "Author: Alexandros Papamatthaiou '21"
   ]
  },
  {
   "cell_type": "code",
   "execution_count": 1,
   "metadata": {},
   "outputs": [],
   "source": [
    "import numpy as np\n",
    "import matplotlib.pyplot as plt"
   ]
  },
  {
   "cell_type": "code",
   "execution_count": 30,
   "metadata": {},
   "outputs": [],
   "source": [
    "#Initial beam conditions. The ion source we have in the lab is an IS 40E1\n",
    "\n",
    "#conversions to SI\n",
    "eV = 1 /6.242e+18\n",
    "micro = 1e-6\n",
    "mm = 1e-3\n",
    "cm = 1e-2\n",
    "amu = 1.66054e-27\n",
    "H_m = 1.00784*amu\n",
    "He_m = 4.002602*amu\n",
    "\n",
    "#constants\n",
    "mu_o = 1.2566370621219e-6\n",
    "e_o = 8.85418782e-12\n",
    "\n",
    "#beam energy\n",
    "en = 3*10**3 *eV  #1keV\n",
    "\n",
    "#beam current\n",
    "I = micro #1μA\n",
    "\n",
    "#beam current density\n",
    "curr_d = 4*micro*(cm**2)  #4μA/cm^2\n",
    "\n",
    "#emission current\n",
    "curr_em = mm  #1mA\n",
    "\n",
    "#mass of ion\n",
    "m = 39.948*H_m #Mass of H\n",
    "\n",
    "#charge\n",
    "q = eV\n",
    "\n",
    "#Beam radius\n",
    "r_b = 3*mm #3mm from CAD (double check)"
   ]
  },
  {
   "cell_type": "markdown",
   "metadata": {},
   "source": [
    "Equation of motion - Lorentz force: \n",
    "\n",
    "$m_{i}\\ddot{x} = q_i (E + \\dot{x} \\times B)$\n",
    "\n",
    "Gauss's Law:\n",
    "\n",
    "$\\int_{}^{} E \\cdot dS \\ = \\frac{1}{\\epsilon_{0}} \\int_{}^{} \\rho dV \\$\n",
    "\n",
    "Cylindrical coordinates are in order, as the beam is a cylinder. Assuming that the beam is infinitely long and azimuthally symmetric, we conclude that $E_{\\theta}, E_{z} = 0$, and we look at the radial field\n",
    "\n",
    "$2 \\pi r_{b} l E_{r} = \\frac{\\lambda l}{\\epsilon_{0}}$\n",
    "\n",
    "where $\\lambda$ is the charge per unit length of the beam, and it is just current over velocity. Hence\n",
    "\n",
    "$E_{r} = \\frac{I_{b}}{2 \\pi \\epsilon_{0} r_{b} v_{b}}$\n",
    "\n",
    "The magnetic force can be estimated using Ampere's law.\n",
    "\n",
    "$\\int_{}^{} B \\cdot dl \\ = \\mu_{0} \\int_{}^{} J \\cdot dS \\$\n",
    "\n",
    "which is $2 \\pi r_{b} B_{\\theta} = \\mu_{0} I_{b}$"
   ]
  },
  {
   "cell_type": "code",
   "execution_count": 31,
   "metadata": {},
   "outputs": [
    {
     "data": {
      "text/plain": [
       "1.5997425883859174e-07"
      ]
     },
     "execution_count": 31,
     "metadata": {},
     "output_type": "execute_result"
    }
   ],
   "source": [
    "#Calculating fundamental quantities\n",
    "\n",
    "#velocity of beam ions\n",
    "v_b = np.sqrt(2*en/m)\n",
    "\n",
    "#Magnetic field\n",
    "B = mu_o * I / (2*np.pi*r_b)\n",
    "\n",
    "#Electric field\n",
    "E = I/(2*np.pi*e_o*r_b*v_b)\n",
    "\n",
    "#Magnetic force\n",
    "F_m = q*v_b*B\n",
    "\n",
    "#Electric force\n",
    "F_e = q*E\n",
    "\n",
    "#Ratio of magnetic to electric force is on the order\n",
    "#of 1e-6, so we can neglect it\n",
    "\n",
    "F_m/F_e"
   ]
  },
  {
   "cell_type": "code",
   "execution_count": 32,
   "metadata": {},
   "outputs": [
    {
     "data": {
      "text/plain": [
       "119907.33650558705"
      ]
     },
     "execution_count": 32,
     "metadata": {},
     "output_type": "execute_result"
    }
   ],
   "source": [
    "v_b"
   ]
  },
  {
   "cell_type": "markdown",
   "metadata": {},
   "source": [
    "Since we neglect the magnetic force all we do is plug in the electric force on the equation of motion to get the motion at the edge of the beam:\n",
    "\n",
    "$m_{i} \\ddot{r_{b}} = q_{e} \\frac{I_{b}}{2 \\pi \\epsilon_{0} r_{b}v_{b}}$\n",
    "\n",
    "It is interesting to note that the force does NOT depend on the type of distribution. As long as it has a set radius and a uniform velocity we are good."
   ]
  },
  {
   "cell_type": "code",
   "execution_count": 33,
   "metadata": {},
   "outputs": [],
   "source": [
    "#Integrator to work out the time-evolution of the beam, at distance D from source\n",
    "#D is the distance traversed by the beam.\n",
    "#r0 is the initial radius of the beam. \n",
    "#port is the intensity of the beam that we allow. \n",
    "\n",
    "#This is important for getting the beam broadening after the knife edge,\n",
    "#which may allow only a portion of the beam through.\n",
    "\n",
    "def Beam(r0,D,port):\n",
    "    \n",
    "    #Simple RK4 integrator. Could have used a package but this is more explicit\n",
    "    \n",
    "    global e_o,q,I,r_b,v_b,m\n",
    "    \n",
    "    dt = 0.00000001\n",
    "    \n",
    "    t_final = D/v_b  #the beam won't get large enough that this approximation becomes wrong\n",
    "    N = int(round((t_final)/dt)) \n",
    "    t = np.linspace(0, t_final, N+1)\n",
    "    \n",
    "    r = np.zeros((N+1, 1))\n",
    "    v = np.zeros((N+1, 1))\n",
    "    \n",
    "    r[0, :] = r0  # initialize beam size\n",
    "    v[0, :] = 0  # initialize velocity\n",
    "    \n",
    "    def func(tau, x, xdot):\n",
    "        return q*port*I/(2*np.pi*x*e_o*v_b*m)\n",
    "    \n",
    "    for i in range(0, len(t)-1):\n",
    "        k1x = v[i]\n",
    "        k1v = func(t[i],r[i],v[i])\n",
    "        k2x = v[i]+dt*k1v/2\n",
    "        k2v = func(t[i] +dt/2,r[i]+dt*k1x/2,v[i]+dt*k1v/2)\n",
    "        k3x = v[i]+dt*k2v/2\n",
    "        k3v = func(t[i] +dt/2,r[i]+dt*k2x/2,v[i]+dt*k2v/2)\n",
    "        k4x = v[i]+dt*k3v\n",
    "        k4v = func(t[i]+dt,r[i]+dt*k3x,v[i]+dt*k3v)\n",
    "        r[i+1] = r[i] + dt/6 * (k1x+2*k2x+2*k3x+k4x)\n",
    "        v[i+1] = v[i] + dt/6 * (k1v+2*k2v+2*k3v+k4v)\n",
    "        \n",
    "    return r"
   ]
  },
  {
   "cell_type": "code",
   "execution_count": 34,
   "metadata": {},
   "outputs": [
    {
     "data": {
      "text/plain": [
       "array([[0.003     ],\n",
       "       [0.00300001],\n",
       "       [0.00300002],\n",
       "       ...,\n",
       "       [0.04577898],\n",
       "       [0.04579297],\n",
       "       [0.04580697]])"
      ]
     },
     "execution_count": 34,
     "metadata": {},
     "output_type": "execute_result"
    }
   ],
   "source": [
    "#example beam broadening after 5m\n",
    "Beam(r_b,5,1)"
   ]
  },
  {
   "cell_type": "code",
   "execution_count": 19,
   "metadata": {},
   "outputs": [],
   "source": [
    "#Knife edge that cuts a portion of the beam out. r is the final radius before the knive-edge\n",
    "#port is the portion of the distribution (in σ) the knife edge cuts out. The function\n",
    "#spits out the ideal radius of a knife-edge hole in mm.\n",
    "\n",
    "def Knife_Edge(r,port):\n",
    "    \n",
    "    #we assume that the beam profile is Gaussian and a particle at the rim is at 3σ\n",
    "    #this is generally a good approximation as the ion source produces a Gaussian beam\n",
    "    \n",
    "    sigma = r[-1]/3 #The r is at 3σ so σ is conveniently r/3. remember μ = 0\n",
    "    \n",
    "    if port > 3: \n",
    "        r_new = 3*sigma #limit in case user asks for more than 3σ as we have set the boundary ion to be at 3σ\n",
    "    else:\n",
    "        r_new = port*sigma #new r is limited to a portion of the previous gaussian, like σ/2\n",
    "    \n",
    "    print(\"Knife edge hole should be about: \" + str(np.round(r_new[0],4)*1e+3) + \" mm in radius\")\n",
    "    return r_new"
   ]
  },
  {
   "cell_type": "markdown",
   "metadata": {},
   "source": [
    "All parts are completed. Now a test run.\n",
    "\n",
    "The beam calculation has three parts:\n",
    "\n",
    "1. A first flight path \n",
    "\n",
    "2. Knife edge passage\n",
    "\n",
    "3. A second flight path\n",
    "\n",
    "Output is given in mm"
   ]
  },
  {
   "cell_type": "code",
   "execution_count": 11,
   "metadata": {},
   "outputs": [
    {
     "name": "stdout",
     "output_type": "stream",
     "text": [
      "Knife edge hole should be about: 12.6 mm in radius\n"
     ]
    },
    {
     "data": {
      "text/plain": [
       "array([19.38737473])"
      ]
     },
     "execution_count": 11,
     "metadata": {},
     "output_type": "execute_result"
    }
   ],
   "source": [
    "#Beam path: Initial beam passes through knife edge at 2 meters, then continues for another 3 meters.\n",
    "#r_f is the final radius as it hits SWAPI. Knife edge allows through 3σ\n",
    "\n",
    "r_1 = r_b\n",
    "r_2 = Beam(r_1,2,1)\n",
    "r_3 = Knife_Edge(r_2,3)\n",
    "r_f = Beam(r_3,3,1)\n",
    "r_f[-1]*1e+3 #beam radius in mm"
   ]
  },
  {
   "cell_type": "code",
   "execution_count": 12,
   "metadata": {},
   "outputs": [
    {
     "name": "stdout",
     "output_type": "stream",
     "text": [
      "Knife edge hole should be about: 4.2 mm in radius\n"
     ]
    },
    {
     "data": {
      "text/plain": [
       "array([15.27006571])"
      ]
     },
     "execution_count": 12,
     "metadata": {},
     "output_type": "execute_result"
    }
   ],
   "source": [
    "#Second test run. Same as before allows 1 σ. Notice the beam at the second flight path is attenuated to 68%, because\n",
    "#the knife edge allows only 1σ through.\n",
    "\n",
    "r_1 = r_b\n",
    "r_2 = Beam(r_1,2,1)\n",
    "r_3 = Knife_Edge(r_2,1)\n",
    "r_f = Beam(r_3,3,0.682)\n",
    "r_f[-1]*1e+3 #beam radius in mm"
   ]
  },
  {
   "cell_type": "markdown",
   "metadata": {},
   "source": [
    "The beam gets only slightly narrower if we minimize it at the knife-edge, as the intensity of the beam is lower, but we deal again with a tighter distribution than before so it gets spread out faster. So we have a beam that is only 21% smaller but we only get 68% in intensity!\n",
    "\n",
    "TL;DR: It's worth it to keep all the beam instead of cutting it at the knife-edge"
   ]
  }
 ],
 "metadata": {
  "kernelspec": {
   "display_name": "Python 3",
   "language": "python",
   "name": "python3"
  },
  "language_info": {
   "codemirror_mode": {
    "name": "ipython",
    "version": 3
   },
   "file_extension": ".py",
   "mimetype": "text/x-python",
   "name": "python",
   "nbconvert_exporter": "python",
   "pygments_lexer": "ipython3",
   "version": "3.6.8"
  }
 },
 "nbformat": 4,
 "nbformat_minor": 4
}
